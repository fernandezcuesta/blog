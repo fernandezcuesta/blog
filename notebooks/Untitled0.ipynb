{
 "cells": [
  {
   "cell_type": "markdown",
   "metadata": {},
   "source": [
    "Ejemplo de cómo hacer un merge+append de pandas dataframes\n",
    "============================================================"
   ]
  },
  {
   "cell_type": "code",
   "execution_count": 1,
   "metadata": {
    "collapsed": false
   },
   "outputs": [],
   "source": [
    "from t4 import *"
   ]
  },
  {
   "cell_type": "code",
   "execution_count": 48,
   "metadata": {
    "collapsed": false
   },
   "outputs": [
    {
     "name": "stdout",
     "output_type": "stream",
     "text": [
      "\n",
      "df_a: \n",
      "           val0  val1\n",
      "sample_nr            \n",
      "0             2     1\n",
      "1             3     2\n",
      "2             6     4\n",
      "3             8     3\n",
      "4             6     1\n",
      "5             7     6\n",
      "6             8     3\n",
      "\n",
      "df_b: \n",
      "           val2  val3\n",
      "sample_nr            \n",
      "10            5     4\n",
      "11            4     4\n",
      "12            5     6\n",
      "13            5     6\n",
      "14            5     8\n",
      "15            5     6\n",
      "16            6     6\n",
      "\n",
      "df_c: \n",
      "           val0  val1\n",
      "sample_nr            \n",
      "10            1     0\n",
      "11            3     2\n",
      "12            2     3\n",
      "13            1     4\n",
      "14            3     1\n",
      "15            7     3\n",
      "16            2     1\n",
      "\n",
      "df_d: \n",
      "           val2  val3\n",
      "sample_nr            \n",
      "0             8     4\n",
      "1             8     4\n",
      "2             7     6\n",
      "3             7     6\n",
      "4             8     8\n",
      "5             6     6\n",
      "6             5     6\n"
     ]
    }
   ],
   "source": [
    "# df_a y df_c son complementarios (appendable), lo mismo con df_b y df_b\n",
    "# {df_a, df_c} y {df_b, df_d} son suplementarions (mergeable)\n",
    "\n",
    "pd.DataFrame._metadata = ['system']\n",
    "pd.DataFrame.__finalize__ = custom_finalize\n",
    "\n",
    "df_a = pd.DataFrame({'sample_nr': [0, 1, 2, 3, 4, 5, 6], 'val0': [2, 3, 6, 8, 6, 7, 8], 'val1': [1, 2, 4, 3, 1, 6, 3]})\n",
    "df_a = df_a.set_index('sample_nr')\n",
    "df_a.system = 'system_a'\n",
    "\n",
    "df_b = pd.DataFrame({'sample_nr': [10, 11, 12, 13, 14, 15, 16], 'val2': [5, 4, 5, 5, 5, 5, 6], 'val3': [4, 4, 6, 6, 8, 6, 6]})\n",
    "df_b = df_b.set_index('sample_nr')\n",
    "df_b.system = 'system_b'\n",
    "\n",
    "df_c = pd.DataFrame({'sample_nr': [10, 11, 12, 13, 14, 15, 16], 'val0': [1, 3, 2, 1, 3, 7, 2], 'val1': [0, 2, 3, 4, 1, 3, 1]})\n",
    "df_c = df_c.set_index('sample_nr')\n",
    "df_c.system = 'system_c'\n",
    "\n",
    "df_d = pd.DataFrame({'sample_nr': [0, 1, 2, 3, 4, 5, 6], 'val2': [8, 8, 7, 7, 8, 6, 5], 'val3': [4, 4, 6, 6, 8, 6, 6]})\n",
    "df_d = df_d.set_index('sample_nr')\n",
    "df_d.system = 'system_d'\n",
    "\n",
    "\n",
    "print '\\ndf_a: \\n', df_a\n",
    "print '\\ndf_b: \\n',df_b\n",
    "print '\\ndf_c: \\n',df_c\n",
    "print '\\ndf_d: \\n',df_d\n",
    "\n"
   ]
  },
  {
   "cell_type": "code",
   "execution_count": 39,
   "metadata": {
    "collapsed": false
   },
   "outputs": [
    {
     "name": "stdout",
     "output_type": "stream",
     "text": [
      "df_a metadata:  system_a\n",
      "df_b metadata:  system_b\n",
      "df_c metadata:  system_c\n",
      "df_d metadata:  system_d\n"
     ]
    }
   ],
   "source": [
    "#Mostramos los metadatos\n",
    "\n",
    "print 'df_a metadata: ', df_a.system\n",
    "print 'df_b metadata: ', df_b.system\n",
    "print 'df_c metadata: ', df_c.system\n",
    "print 'df_d metadata: ', df_d.system\n",
    "\n",
    "\n"
   ]
  },
  {
   "cell_type": "code",
   "execution_count": 41,
   "metadata": {
    "collapsed": false
   },
   "outputs": [
    {
     "name": "stdout",
     "output_type": "stream",
     "text": [
      "           val0  val1\n",
      "sample_nr            \n",
      "0             2     1\n",
      "1             3     2\n",
      "2             6     4\n",
      "3             8     3\n",
      "4             6     1\n",
      "5             7     6\n",
      "6             8     3\n",
      "           val2  val3\n",
      "sample_nr            \n",
      "0             8     4\n",
      "1             8     4\n",
      "2             7     6\n",
      "3             7     6\n",
      "4             8     8\n",
      "5             6     6\n",
      "6             5     6\n",
      "           val0  val1  val2  val3\n",
      "sample_nr                        \n",
      "0             2     1   NaN   NaN\n",
      "1             3     2   NaN   NaN\n",
      "2             6     4   NaN   NaN\n",
      "3             8     3   NaN   NaN\n",
      "4             6     1   NaN   NaN\n",
      "5             7     6   NaN   NaN\n",
      "6             8     3   NaN   NaN\n",
      "10          NaN   NaN     5     4\n",
      "11          NaN   NaN     4     4\n",
      "12          NaN   NaN     5     6\n",
      "13          NaN   NaN     5     6\n",
      "14          NaN   NaN     5     8\n",
      "15          NaN   NaN     5     6\n",
      "16          NaN   NaN     6     6\n",
      "           val0  val1  val2  val3\n",
      "sample_nr                        \n",
      "0           NaN   NaN     8     4\n",
      "1           NaN   NaN     8     4\n",
      "2           NaN   NaN     7     6\n",
      "3           NaN   NaN     7     6\n",
      "4           NaN   NaN     8     8\n",
      "5           NaN   NaN     6     6\n",
      "6           NaN   NaN     5     6\n",
      "10            1     0   NaN   NaN\n",
      "11            3     2   NaN   NaN\n",
      "12            2     3   NaN   NaN\n",
      "13            1     4   NaN   NaN\n",
      "14            3     1   NaN   NaN\n",
      "15            7     3   NaN   NaN\n",
      "16            2     1   NaN   NaN\n",
      "           val0  val1  val2  val3\n",
      "sample_nr                        \n",
      "0             2     1     8     4\n",
      "1             3     2     8     4\n",
      "2             6     4     7     6\n",
      "3             8     3     7     6\n",
      "4             6     1     8     8\n",
      "5             7     6     6     6\n",
      "6             8     3     5     6\n",
      "10            1     0     5     4\n",
      "11            3     2     4     4\n",
      "12            2     3     5     6\n",
      "13            1     4     5     6\n",
      "14            3     1     5     8\n",
      "15            7     3     5     6\n",
      "16            2     1     6     6\n",
      "--------------------------------------------------------------------------------\n",
      "df metadata: <<  >>\n",
      "           val0  val1  val2  val3\n",
      "sample_nr                        \n",
      "0             2     1     8     4\n",
      "1             3     2     8     4\n",
      "2             6     4     7     6\n",
      "3             8     3     7     6\n",
      "4             6     1     8     8\n",
      "5             7     6     6     6\n",
      "6             8     3     5     6\n",
      "10            1     0     5     4\n",
      "11            3     2     4     4\n",
      "12            2     3     5     6\n",
      "13            1     4     5     6\n",
      "14            3     1     5     8\n",
      "15            7     3     5     6\n",
      "16            2     1     6     6\n",
      "--------------------------------------------------------------------------------\n",
      "df metadata: <<  >>\n"
     ]
    }
   ],
   "source": [
    "# Concatenado tipo 'append', hay índices repetidos y NaN en los campos vacíos\n",
    "#df = pd.concat([df_a, df_c, df_b, df_d], axis=0)\n",
    "print df_a\n",
    "print df_d\n",
    "df1 = pd.merge(df_a, df_b, how='outer', left_index=True, right_index=True)\n",
    "df2 = pd.merge(df_c, df_d, how='outer', left_index=True, right_index=True)\n",
    "\n",
    "print df1\n",
    "print df2\n",
    "\n",
    "df = pd.concat([df_a, df_b, df_c, df_d])\n",
    "df = df.groupby(df.index).last()\n",
    "print df\n",
    "print '-'*80\n",
    "print 'df metadata: << %s >>' % df.system\n",
    "\n",
    "\n",
    "inicial = pd.DataFrame()\n",
    "for data in [df_a, df_b, df_c, df_d]:\n",
    "    inicial = inicial.combine_first(data)\n",
    "\n",
    "print inicial\n",
    "print '-'*80\n",
    "print 'df metadata: << %s >>' % inicial.system"
   ]
  },
  {
   "cell_type": "code",
   "execution_count": 34,
   "metadata": {
    "collapsed": false
   },
   "outputs": [
    {
     "name": "stdout",
     "output_type": "stream",
     "text": [
      "           val0  val1  val2  val3  val0  val1  val2  val3\n",
      "sample_nr                                                \n",
      "0             2     1   NaN   NaN   NaN   NaN     8     4\n",
      "1             3     2   NaN   NaN   NaN   NaN     8     4\n",
      "2             6     4   NaN   NaN   NaN   NaN     7     6\n",
      "3             8     3   NaN   NaN   NaN   NaN     7     6\n",
      "4             6     1   NaN   NaN   NaN   NaN     8     8\n",
      "5             7     6   NaN   NaN   NaN   NaN     6     6\n",
      "6             8     3   NaN   NaN   NaN   NaN     5     6\n",
      "10          NaN   NaN     5     4     1     0   NaN   NaN\n",
      "11          NaN   NaN     4     4     3     2   NaN   NaN\n",
      "12          NaN   NaN     5     6     2     3   NaN   NaN\n",
      "13          NaN   NaN     5     6     1     4   NaN   NaN\n",
      "14          NaN   NaN     5     8     3     1   NaN   NaN\n",
      "15          NaN   NaN     5     6     7     3   NaN   NaN\n",
      "16          NaN   NaN     6     6     2     1   NaN   NaN\n",
      "--------------------------------------------------------------------------------\n",
      "After grouping indices, metadata df: <<  >>\n"
     ]
    }
   ],
   "source": [
    "# Agrupamos los índices\n",
    "df = df.groupby(df.index).last()\n",
    "print df\n",
    "print '-'*80\n",
    "print 'After grouping indices, metadata df: << %s >>' % df.system"
   ]
  },
  {
   "cell_type": "code",
   "execution_count": null,
   "metadata": {
    "collapsed": false
   },
   "outputs": [],
   "source": []
  }
 ],
 "metadata": {
  "kernelspec": {
   "display_name": "Python 2",
   "language": "python",
   "name": "python2"
  },
  "language_info": {
   "codemirror_mode": {
    "name": "ipython",
    "version": 2
   },
   "file_extension": ".py",
   "mimetype": "text/x-python",
   "name": "python",
   "nbconvert_exporter": "python",
   "pygments_lexer": "ipython2",
   "version": "2.7.9"
  }
 },
 "nbformat": 4,
 "nbformat_minor": 0
}
